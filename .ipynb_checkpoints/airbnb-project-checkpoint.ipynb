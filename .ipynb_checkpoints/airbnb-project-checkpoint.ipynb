{
 "cells": [
  {
   "cell_type": "code",
   "execution_count": 23,
   "id": "954f2e4a-f23d-49cd-8a89-c0316016065c",
   "metadata": {},
   "outputs": [],
   "source": [
    "import pandas as pd\n",
    "import numpy as np\n",
    "low_memory = False\n"
   ]
  },
  {
   "cell_type": "code",
   "execution_count": 24,
   "id": "8dda9f8f-5c21-4e5c-9aea-99e1ee33979d",
   "metadata": {},
   "outputs": [
    {
     "name": "stderr",
     "output_type": "stream",
     "text": [
      "C:\\Users\\User\\AppData\\Local\\Temp\\ipykernel_21412\\113647517.py:2: DtypeWarning: Columns (4) have mixed types. Specify dtype option on import or set low_memory=False.\n",
      "  calendar = pd.read_csv(\"data/calendar.csv.gz\")\n"
     ]
    }
   ],
   "source": [
    "listings = pd.read_csv(\"data/listings.csv.gz\")\n",
    "calendar = pd.read_csv(\"data/calendar.csv.gz\")\n",
    "reviews = pd.read_csv(\"data/reviews.csv.gz\")\n"
   ]
  },
  {
   "cell_type": "code",
   "execution_count": 26,
   "id": "ff5ae48f-0beb-4e5f-a090-07d7d717a2f8",
   "metadata": {},
   "outputs": [
    {
     "name": "stdout",
     "output_type": "stream",
     "text": [
      "<class 'pandas.core.frame.DataFrame'>\n",
      "RangeIndex: 23564 entries, 0 to 23563\n",
      "Data columns (total 75 columns):\n",
      " #   Column                                        Non-Null Count  Dtype  \n",
      "---  ------                                        --------------  -----  \n",
      " 0   id                                            23564 non-null  int64  \n",
      " 1   listing_url                                   23564 non-null  object \n",
      " 2   scrape_id                                     23564 non-null  int64  \n",
      " 3   last_scraped                                  23564 non-null  object \n",
      " 4   source                                        23564 non-null  object \n",
      " 5   name                                          23563 non-null  object \n",
      " 6   description                                   23161 non-null  object \n",
      " 7   neighborhood_overview                         13906 non-null  object \n",
      " 8   picture_url                                   23564 non-null  object \n",
      " 9   host_id                                       23564 non-null  int64  \n",
      " 10  host_url                                      23564 non-null  object \n",
      " 11  host_name                                     23564 non-null  object \n",
      " 12  host_since                                    23564 non-null  object \n",
      " 13  host_location                                 17775 non-null  object \n",
      " 14  host_about                                    12037 non-null  object \n",
      " 15  host_response_time                            16985 non-null  object \n",
      " 16  host_response_rate                            16985 non-null  object \n",
      " 17  host_acceptance_rate                          20072 non-null  object \n",
      " 18  host_is_superhost                             22854 non-null  object \n",
      " 19  host_thumbnail_url                            23564 non-null  object \n",
      " 20  host_picture_url                              23564 non-null  object \n",
      " 21  host_neighbourhood                            196 non-null    object \n",
      " 22  host_listings_count                           23564 non-null  int64  \n",
      " 23  host_total_listings_count                     23564 non-null  int64  \n",
      " 24  host_verifications                            23564 non-null  object \n",
      " 25  host_has_profile_pic                          23564 non-null  object \n",
      " 26  host_identity_verified                        23564 non-null  object \n",
      " 27  neighbourhood                                 13906 non-null  object \n",
      " 28  neighbourhood_cleansed                        23564 non-null  object \n",
      " 29  neighbourhood_group_cleansed                  0 non-null      float64\n",
      " 30  latitude                                      23564 non-null  float64\n",
      " 31  longitude                                     23564 non-null  float64\n",
      " 32  property_type                                 23564 non-null  object \n",
      " 33  room_type                                     23564 non-null  object \n",
      " 34  accommodates                                  23564 non-null  int64  \n",
      " 35  bathrooms                                     20215 non-null  float64\n",
      " 36  bathrooms_text                                23525 non-null  object \n",
      " 37  bedrooms                                      22986 non-null  float64\n",
      " 38  beds                                          20203 non-null  float64\n",
      " 39  amenities                                     23564 non-null  object \n",
      " 40  price                                         20098 non-null  object \n",
      " 41  minimum_nights                                23564 non-null  int64  \n",
      " 42  maximum_nights                                23564 non-null  int64  \n",
      " 43  minimum_minimum_nights                        23536 non-null  float64\n",
      " 44  maximum_minimum_nights                        23536 non-null  float64\n",
      " 45  minimum_maximum_nights                        23536 non-null  float64\n",
      " 46  maximum_maximum_nights                        23536 non-null  float64\n",
      " 47  minimum_nights_avg_ntm                        23536 non-null  float64\n",
      " 48  maximum_nights_avg_ntm                        23536 non-null  float64\n",
      " 49  calendar_updated                              0 non-null      float64\n",
      " 50  has_availability                              22053 non-null  object \n",
      " 51  availability_30                               23564 non-null  int64  \n",
      " 52  availability_60                               23564 non-null  int64  \n",
      " 53  availability_90                               23564 non-null  int64  \n",
      " 54  availability_365                              23564 non-null  int64  \n",
      " 55  calendar_last_scraped                         23564 non-null  object \n",
      " 56  number_of_reviews                             23564 non-null  int64  \n",
      " 57  number_of_reviews_ltm                         23564 non-null  int64  \n",
      " 58  number_of_reviews_l30d                        23564 non-null  int64  \n",
      " 59  first_review                                  18456 non-null  object \n",
      " 60  last_review                                   18456 non-null  object \n",
      " 61  review_scores_rating                          18456 non-null  float64\n",
      " 62  review_scores_accuracy                        18452 non-null  float64\n",
      " 63  review_scores_cleanliness                     18452 non-null  float64\n",
      " 64  review_scores_checkin                         18449 non-null  float64\n",
      " 65  review_scores_communication                   18451 non-null  float64\n",
      " 66  review_scores_location                        18450 non-null  float64\n",
      " 67  review_scores_value                           18449 non-null  float64\n",
      " 68  license                                       87 non-null     object \n",
      " 69  instant_bookable                              23564 non-null  object \n",
      " 70  calculated_host_listings_count                23564 non-null  int64  \n",
      " 71  calculated_host_listings_count_entire_homes   23564 non-null  int64  \n",
      " 72  calculated_host_listings_count_private_rooms  23564 non-null  int64  \n",
      " 73  calculated_host_listings_count_shared_rooms   23564 non-null  int64  \n",
      " 74  reviews_per_month                             18456 non-null  float64\n",
      "dtypes: float64(21), int64(19), object(35)\n",
      "memory usage: 13.5+ MB\n",
      "None\n",
      "<class 'pandas.core.frame.DataFrame'>\n",
      "RangeIndex: 8588966 entries, 0 to 8588965\n",
      "Data columns (total 7 columns):\n",
      " #   Column          Dtype  \n",
      "---  ------          -----  \n",
      " 0   listing_id      int64  \n",
      " 1   date            object \n",
      " 2   available       object \n",
      " 3   price           object \n",
      " 4   adjusted_price  object \n",
      " 5   minimum_nights  float64\n",
      " 6   maximum_nights  float64\n",
      "dtypes: float64(2), int64(1), object(4)\n",
      "memory usage: 458.7+ MB\n",
      "None\n",
      "<class 'pandas.core.frame.DataFrame'>\n",
      "RangeIndex: 560438 entries, 0 to 560437\n",
      "Data columns (total 6 columns):\n",
      " #   Column         Non-Null Count   Dtype \n",
      "---  ------         --------------   ----- \n",
      " 0   listing_id     560438 non-null  int64 \n",
      " 1   id             560438 non-null  int64 \n",
      " 2   date           560438 non-null  object\n",
      " 3   reviewer_id    560438 non-null  int64 \n",
      " 4   reviewer_name  560437 non-null  object\n",
      " 5   comments       560321 non-null  object\n",
      "dtypes: int64(3), object(3)\n",
      "memory usage: 25.7+ MB\n",
      "None\n"
     ]
    }
   ],
   "source": [
    "print(listings.info())\n",
    "print(calendar.info())\n",
    "print(reviews.info())"
   ]
  },
  {
   "cell_type": "code",
   "execution_count": 28,
   "id": "d1f2cef7-1711-4437-82b6-e480c9e9945f",
   "metadata": {},
   "outputs": [
    {
     "name": "stdout",
     "output_type": "stream",
     "text": [
      "Percentage of missing values in the neighbourhood column: 40.99%\n"
     ]
    }
   ],
   "source": [
    "missing_percentage = (listings['neighbourhood'].isnull().sum() / len(listings)) * 100\n",
    "print(f\"Percentage of missing values in the neighbourhood column: {missing_percentage:.2f}%\")"
   ]
  },
  {
   "cell_type": "code",
   "execution_count": 29,
   "id": "b95d0912-5bd7-407d-9683-a23e5136debb",
   "metadata": {},
   "outputs": [],
   "source": [
    "\n",
    "listings['neighbourhood'] = listings.apply(lambda row: str(row['description']).split('in ')[1].split(',')[0] \n",
    "                                           if pd.isnull(row['neighbourhood']) and 'in ' in str(row['description']) else row['neighbourhood'], axis=1)"
   ]
  },
  {
   "cell_type": "code",
   "execution_count": 33,
   "id": "a6e532ff-947d-4e27-aebe-af887304aab3",
   "metadata": {},
   "outputs": [
    {
     "name": "stdout",
     "output_type": "stream",
     "text": [
      "<class 'pandas.core.series.Series'>\n",
      "RangeIndex: 23564 entries, 0 to 23563\n",
      "Series name: neighbourhood\n",
      "Non-Null Count  Dtype \n",
      "--------------  ----- \n",
      "20767 non-null  object\n",
      "dtypes: object(1)\n",
      "memory usage: 184.2+ KB\n"
     ]
    }
   ],
   "source": [
    "listings[\"neighbourhood\"].info()"
   ]
  },
  {
   "cell_type": "code",
   "execution_count": 31,
   "id": "712a5f10-2f22-4dea-9036-1acf5eaf8f02",
   "metadata": {},
   "outputs": [
    {
     "name": "stdout",
     "output_type": "stream",
     "text": [
      "Percentage of missing values in the neighbourhood column: 11.87%\n"
     ]
    }
   ],
   "source": [
    "missing_percentage = (listings['neighbourhood'].isnull().sum() / len(listings)) * 100\n",
    "print(f\"Percentage of missing values in the neighbourhood column: {missing_percentage:.2f}%\")"
   ]
  },
  {
   "cell_type": "code",
   "execution_count": 44,
   "id": "dc0fca6e-f01c-4c40-8226-8e589d8de5b0",
   "metadata": {},
   "outputs": [
    {
     "name": "stdout",
     "output_type": "stream",
     "text": [
      "listing_id       False\n",
      "id               False\n",
      "date             False\n",
      "reviewer_id      False\n",
      "reviewer_name     True\n",
      "comments          True\n",
      "dtype: bool\n"
     ]
    }
   ],
   "source": [
    "print(reviews.isnull().any())"
   ]
  },
  {
   "cell_type": "code",
   "execution_count": 45,
   "id": "1b04b92b-02f1-4f06-85fe-fba10db6d837",
   "metadata": {},
   "outputs": [
    {
     "name": "stdout",
     "output_type": "stream",
     "text": [
      "listing_id        False\n",
      "date              False\n",
      "available         False\n",
      "price             False\n",
      "adjusted_price     True\n",
      "minimum_nights     True\n",
      "maximum_nights     True\n",
      "dtype: bool\n"
     ]
    }
   ],
   "source": [
    "print(calendar.isnull().any())"
   ]
  },
  {
   "cell_type": "code",
   "execution_count": null,
   "id": "7f427cd0-d189-488f-9b8d-4787d44772b7",
   "metadata": {},
   "outputs": [],
   "source": []
  }
 ],
 "metadata": {
  "kernelspec": {
   "display_name": "Python (learn-env)",
   "language": "python",
   "name": "learn-env"
  },
  "language_info": {
   "codemirror_mode": {
    "name": "ipython",
    "version": 3
   },
   "file_extension": ".py",
   "mimetype": "text/x-python",
   "name": "python",
   "nbconvert_exporter": "python",
   "pygments_lexer": "ipython3",
   "version": "3.11.9"
  }
 },
 "nbformat": 4,
 "nbformat_minor": 5
}
